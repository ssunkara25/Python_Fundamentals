{
 "cells": [
  {
   "cell_type": "code",
   "execution_count": null,
   "metadata": {},
   "outputs": [],
   "source": [
    "#Introduction to for a for loops :"
   ]
  },
  {
   "cell_type": "code",
   "execution_count": 11,
   "metadata": {},
   "outputs": [],
   "source": [
    "bank_customers=['vamsi','vikas','venky','vishnu','venkat','veera'] #6 customers fo AXIS bank#mainvar"
   ]
  },
  {
   "cell_type": "code",
   "execution_count": null,
   "metadata": {},
   "outputs": [],
   "source": [
    "#req:greeting the customers--> Axis bank wishes you a Very Happy New Year <cust_name>..!"
   ]
  },
  {
   "cell_type": "code",
   "execution_count": null,
   "metadata": {},
   "outputs": [],
   "source": [
    "#Regular way:"
   ]
  },
  {
   "cell_type": "code",
   "execution_count": 2,
   "metadata": {},
   "outputs": [
    {
     "name": "stdout",
     "output_type": "stream",
     "text": [
      "Axis Bank Wishes you a Very Happy New Year,Vamsi\n"
     ]
    }
   ],
   "source": [
    "print(f\"Axis Bank Wishes you a Very Happy New Year,{bank_customers[0].title()}\")"
   ]
  },
  {
   "cell_type": "code",
   "execution_count": null,
   "metadata": {},
   "outputs": [],
   "source": [
    "#To Automate the solution:"
   ]
  },
  {
   "cell_type": "code",
   "execution_count": 37,
   "metadata": {},
   "outputs": [
    {
     "name": "stdout",
     "output_type": "stream",
     "text": [
      "vamsi\n",
      "vikas\n",
      "venky\n",
      "vishnu\n",
      "venkat\n",
      "veera\n"
     ]
    }
   ],
   "source": [
    "for customers in bank_customers:\n",
    "    print(customers)"
   ]
  },
  {
   "cell_type": "code",
   "execution_count": 39,
   "metadata": {},
   "outputs": [
    {
     "name": "stdout",
     "output_type": "stream",
     "text": [
      "Axis Bank Wishes you a Very Happy New Year,vamsi\n",
      "Axis Bank Wishes you a Very Happy New Year,vikas\n",
      "Axis Bank Wishes you a Very Happy New Year,venky\n",
      "Axis Bank Wishes you a Very Happy New Year,vishnu\n",
      "Axis Bank Wishes you a Very Happy New Year,venkat\n",
      "Axis Bank Wishes you a Very Happy New Year,veera\n"
     ]
    }
   ],
   "source": [
    "for customers in bank_customers:\n",
    "    print(f\"Axis Bank Wishes you a Very Happy New Year,{customers}\")"
   ]
  },
  {
   "cell_type": "code",
   "execution_count": null,
   "metadata": {},
   "outputs": [],
   "source": [
    "#general syntax for a for loop :\n",
    "for tempvar in mainvar: #indentation\n",
    "    print(tempvar)"
   ]
  },
  {
   "cell_type": "code",
   "execution_count": 43,
   "metadata": {},
   "outputs": [
    {
     "name": "stdout",
     "output_type": "stream",
     "text": [
      "Axis Bank Wishes you A Very Happy New Year,vamsi\n",
      "Axis Bank Wishes you A Very Happy New Year,vikas\n",
      "Axis Bank Wishes you A Very Happy New Year,venky\n",
      "Axis Bank Wishes you A Very Happy New Year,vishnu\n",
      "Axis Bank Wishes you A Very Happy New Year,venkat\n",
      "Axis Bank Wishes you A Very Happy New Year,veera\n"
     ]
    }
   ],
   "source": [
    "for batman in bank_customers:\n",
    "    print(f\"Axis Bank Wishes you A Very Happy New Year,{batman}\")"
   ]
  },
  {
   "cell_type": "code",
   "execution_count": null,
   "metadata": {},
   "outputs": [],
   "source": [
    "#Indentation Error:"
   ]
  },
  {
   "cell_type": "code",
   "execution_count": 45,
   "metadata": {},
   "outputs": [
    {
     "ename": "IndentationError",
     "evalue": "expected an indented block (<ipython-input-45-9cc8863c5734>, line 2)",
     "output_type": "error",
     "traceback": [
      "\u001b[1;36m  File \u001b[1;32m\"<ipython-input-45-9cc8863c5734>\"\u001b[1;36m, line \u001b[1;32m2\u001b[0m\n\u001b[1;33m    print(tempvar)\u001b[0m\n\u001b[1;37m        ^\u001b[0m\n\u001b[1;31mIndentationError\u001b[0m\u001b[1;31m:\u001b[0m expected an indented block\n"
     ]
    }
   ],
   "source": [
    "for tempvar in mainvar:\n",
    "print(tempvar)"
   ]
  },
  {
   "cell_type": "code",
   "execution_count": null,
   "metadata": {},
   "outputs": [],
   "source": [
    "#example "
   ]
  },
  {
   "cell_type": "code",
   "execution_count": 47,
   "metadata": {},
   "outputs": [
    {
     "name": "stdout",
     "output_type": "stream",
     "text": [
      "Axis Bank wishes you A Very Happy New Year,vamsi\n",
      "Axis Bank wishes you A Very Happy New Year,vikas\n",
      "Axis Bank wishes you A Very Happy New Year,venky\n",
      "Axis Bank wishes you A Very Happy New Year,vishnu\n",
      "Axis Bank wishes you A Very Happy New Year,venkat\n",
      "Axis Bank wishes you A Very Happy New Year,veera\n"
     ]
    }
   ],
   "source": [
    "for x in bank_customers:\n",
    "    print(f\"Axis Bank wishes you A Very Happy New Year,{x}\")"
   ]
  },
  {
   "cell_type": "code",
   "execution_count": null,
   "metadata": {},
   "outputs": [],
   "source": [
    "#example 2"
   ]
  },
  {
   "cell_type": "code",
   "execution_count": 49,
   "metadata": {},
   "outputs": [],
   "source": [
    "my_students=['ravi','rahul','renu','ramya','revati']"
   ]
  },
  {
   "cell_type": "code",
   "execution_count": null,
   "metadata": {},
   "outputs": [],
   "source": [
    "#REQ:To appreciate the students"
   ]
  },
  {
   "cell_type": "code",
   "execution_count": 50,
   "metadata": {},
   "outputs": [
    {
     "name": "stdout",
     "output_type": "stream",
     "text": [
      "ravi\n",
      "rahul\n",
      "renu\n",
      "ramya\n",
      "revati\n"
     ]
    }
   ],
   "source": [
    "for student in my_students:\n",
    "    print(student)            #example 3"
   ]
  },
  {
   "cell_type": "code",
   "execution_count": 53,
   "metadata": {},
   "outputs": [
    {
     "name": "stdout",
     "output_type": "stream",
     "text": [
      "Keep up the good work,Ravi\n",
      "Keep up the good work,Rahul\n",
      "Keep up the good work,Renu\n",
      "Keep up the good work,Ramya\n",
      "Keep up the good work,Revati\n"
     ]
    }
   ],
   "source": [
    "for student in my_students:\n",
    "    print(f\"Keep up the good work,{student.title()}\")  #example 4"
   ]
  },
  {
   "cell_type": "code",
   "execution_count": null,
   "metadata": {},
   "outputs": [],
   "source": [
    "example "
   ]
  },
  {
   "cell_type": "code",
   "execution_count": 54,
   "metadata": {},
   "outputs": [
    {
     "name": "stdout",
     "output_type": "stream",
     "text": [
      "keep up the good work,Ravi\n",
      "keep up the good work,Rahul\n",
      "keep up the good work,Renu\n",
      "keep up the good work,Ramya\n",
      "keep up the good work,Revati\n"
     ]
    }
   ],
   "source": [
    "for y in my_students:\n",
    "    print(f\"keep up the good work,{y.title()}\")"
   ]
  },
  {
   "cell_type": "code",
   "execution_count": null,
   "metadata": {},
   "outputs": [],
   "source": [
    "#Additional requirement: I am waiting to receive your practice files of today"
   ]
  },
  {
   "cell_type": "code",
   "execution_count": 55,
   "metadata": {},
   "outputs": [
    {
     "name": "stdout",
     "output_type": "stream",
     "text": [
      "keep up the good work,ravi\n",
      "I am waiting to receive your practice files of today,ravi\n",
      "keep up the good work,rahul\n",
      "I am waiting to receive your practice files of today,rahul\n",
      "keep up the good work,renu\n",
      "I am waiting to receive your practice files of today,renu\n",
      "keep up the good work,ramya\n",
      "I am waiting to receive your practice files of today,ramya\n",
      "keep up the good work,revati\n",
      "I am waiting to receive your practice files of today,revati\n"
     ]
    }
   ],
   "source": [
    "for y in my_students:\n",
    "    print(f\"keep up the good work,{y}\")\n",
    "    print(f\"I am waiting to receive your practice files of today,{y}\")"
   ]
  },
  {
   "cell_type": "code",
   "execution_count": null,
   "metadata": {},
   "outputs": [],
   "source": [
    "#Enhancing the above code with \\n delimiter"
   ]
  },
  {
   "cell_type": "code",
   "execution_count": 57,
   "metadata": {},
   "outputs": [
    {
     "name": "stdout",
     "output_type": "stream",
     "text": [
      "keep up the good work,ravi\n",
      "I am waiting to receive your practice files of today,ravi.\n",
      "\n",
      "keep up the good work,rahul\n",
      "I am waiting to receive your practice files of today,rahul.\n",
      "\n",
      "keep up the good work,renu\n",
      "I am waiting to receive your practice files of today,renu.\n",
      "\n",
      "keep up the good work,ramya\n",
      "I am waiting to receive your practice files of today,ramya.\n",
      "\n",
      "keep up the good work,revati\n",
      "I am waiting to receive your practice files of today,revati.\n",
      "\n"
     ]
    }
   ],
   "source": [
    "for y in my_students:\n",
    "    print(f\"keep up the good work,{y}\")\n",
    "    print(f\"I am waiting to receive your practice files of today,{y}.\\n\")"
   ]
  },
  {
   "cell_type": "code",
   "execution_count": null,
   "metadata": {},
   "outputs": [],
   "source": [
    "#Appreciating all the students:"
   ]
  },
  {
   "cell_type": "code",
   "execution_count": 68,
   "metadata": {},
   "outputs": [
    {
     "name": "stdout",
     "output_type": "stream",
     "text": [
      "keep up the good work,ravi\n",
      "I am waiting to receive your practice files of today,ravi.\n",
      "\n",
      "keep up the good work,rahul\n",
      "I am waiting to receive your practice files of today,rahul.\n",
      "\n",
      "keep up the good work,renu\n",
      "I am waiting to receive your practice files of today,renu.\n",
      "\n",
      "keep up the good work,ramya\n",
      "I am waiting to receive your practice files of today,ramya.\n",
      "\n",
      "keep up the good work,revati\n",
      "I am waiting to receive your practice files of today,revati.\n",
      "\n",
      "Thankyou all for joining the python traininig session!!\n"
     ]
    }
   ],
   "source": [
    "for y in my_students:\n",
    "    print(f\"keep up the good work,{y}\")\n",
    "    print(f\"I am waiting to receive your practice files of today,{y}.\\n\")\n",
    "print(f\"Thankyou all for joining the python traininig session!!\")"
   ]
  },
  {
   "cell_type": "code",
   "execution_count": null,
   "metadata": {},
   "outputs": [],
   "source": []
  },
  {
   "cell_type": "code",
   "execution_count": null,
   "metadata": {},
   "outputs": [],
   "source": []
  },
  {
   "cell_type": "code",
   "execution_count": null,
   "metadata": {},
   "outputs": [],
   "source": []
  },
  {
   "cell_type": "code",
   "execution_count": null,
   "metadata": {},
   "outputs": [],
   "source": []
  },
  {
   "cell_type": "code",
   "execution_count": null,
   "metadata": {},
   "outputs": [],
   "source": []
  }
 ],
 "metadata": {
  "kernelspec": {
   "display_name": "Python 3",
   "language": "python",
   "name": "python3"
  },
  "language_info": {
   "codemirror_mode": {
    "name": "ipython",
    "version": 3
   },
   "file_extension": ".py",
   "mimetype": "text/x-python",
   "name": "python",
   "nbconvert_exporter": "python",
   "pygments_lexer": "ipython3",
   "version": "3.7.6"
  }
 },
 "nbformat": 4,
 "nbformat_minor": 4
}
